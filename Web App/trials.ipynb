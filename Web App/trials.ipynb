{
 "cells": [
  {
   "cell_type": "code",
   "execution_count": 1,
   "id": "1c74b9e4",
   "metadata": {},
   "outputs": [],
   "source": [
    "from flask import Flask, render_template, jsonify, request\n",
    "from pymongo import MongoClient\n",
    "from bson.json_util import dumps\n",
    "import json\n",
    "from datetime import datetime, timedelta\n",
    "import os\n",
    "\n",
    "app = Flask(__name__)\n",
    "\n",
    "# MongoDB connection - replace with your connection string\n",
    "# You can use environment variables for sensitive data\n",
    "MONGO_URI = os.environ.get('MONGO_URI', 'mongodb://localhost:27017/')\n",
    "DB_NAME = os.environ.get('DB_NAME', 'portfolio_management')\n",
    "\n",
    "# Connect to MongoDB\n",
    "client = MongoClient(MONGO_URI)\n",
    "db = client[DB_NAME]\n",
    "\n",
    "# Collections\n",
    "stocks_collection = db['stock_prices']\n",
    "portfolio_collection = db['portfolio']\n",
    "sentiment_collection = db['company_news']\n",
    "predictions_collection = db['predictions']"
   ]
  },
  {
   "cell_type": "code",
   "execution_count": 3,
   "id": "568613da",
   "metadata": {},
   "outputs": [
    {
     "data": {
      "text/plain": [
       "{'_id': ObjectId('6811b24854fd7a8471f2b13f'),\n",
       " 'company': 'AAPL',\n",
       " 'predicted_price': 221.6172332763672,\n",
       " 'date': datetime.datetime(2025, 4, 30, 5, 16, 56, 506000),\n",
       " 'model': 'LSTM',\n",
       " 'created_at': datetime.datetime(2025, 4, 30, 5, 16, 56, 508000)}"
      ]
     },
     "execution_count": 3,
     "metadata": {},
     "output_type": "execute_result"
    }
   ],
   "source": [
    "\n",
    "db['stock_predictions'].find_one()"
   ]
  },
  {
   "cell_type": "code",
   "execution_count": 24,
   "id": "4d689fb7",
   "metadata": {},
   "outputs": [
    {
     "name": "stdout",
     "output_type": "stream",
     "text": [
      "{'ticker': 'AAPL', 'dates': ['2025-04-22', '2025-04-22', '2025-04-22', '2025-04-22', '2025-04-22', '2025-04-22', '2025-04-15', '2025-04-15', '2025-04-15', '2025-04-15', '2025-04-15', '2025-04-15', '2025-04-08', '2025-04-08', '2025-04-08', '2025-04-08', '2025-04-08', '2025-04-01', '2025-04-01', '2025-04-01', '2025-04-01', '2025-04-01', '2025-04-01', '2025-04-01', '2025-04-22', '2025-04-22', '2025-04-22', '2025-04-22', '2025-04-22', '2025-04-22'], 'sentiment_scores': [-0.9975680708885193, -0.714809000492096, 0.9531815052032471, -0.9665292501449585, -0.9913508892059326, -0.999424934387207, -0.9981364011764526, -0.997789740562439, 0.9970389604568481, -0.9975489974021912, 0.9996134638786316, 0.5490578413009644, -0.9698610901832581, 0.9738195538520813, -0.7662594318389893, -0.9756479263305664, -0.9994620680809021, -0.9966101050376892, -0.9972981810569763, -0.9972981810569763, 0.9738195538520813, -0.9808306694030762, 0.9982143640518188, -0.9989649057388306, -0.9975680708885193, -0.714809000492096, 0.9531815052032471, -0.9665292501449585, -0.9913508892059326, -0.999424934387207], 'avg_sentiment': -0.454, 'positive_count': 8, 'negative_count': 22, 'neutral_count': 0}\n"
     ]
    }
   ],
   "source": [
    "import statistics\n",
    "\n",
    "company_name = \"Apple\"\n",
    "ticker = \"AAPL\"\n",
    "\n",
    "# Query all documents for the specific company\n",
    "cursor = sentiment_collection.find({\"company\": company_name})\n",
    "\n",
    "# Initialize containers\n",
    "dates = []\n",
    "sentiment_scores = []\n",
    "positive_count = 0\n",
    "negative_count = 0\n",
    "neutral_count = 0\n",
    "\n",
    "# Process documents\n",
    "for doc in cursor:\n",
    "    sentiment = doc.get(\"sentiment\", {})\n",
    "    score = sentiment.get(\"score\")\n",
    "    label = sentiment.get(\"label\")\n",
    "\n",
    "    # Use week_start as the reference date\n",
    "    date = doc.get(\"week_start\")\n",
    "    if score is not None and date is not None:\n",
    "        dates.append(date.strftime(\"%Y-%m-%d\"))\n",
    "        sentiment_scores.append(score if label != \"NEGATIVE\" else -score)\n",
    "\n",
    "        if label == \"POSITIVE\":\n",
    "            positive_count += 1\n",
    "        elif label == \"NEGATIVE\":\n",
    "            negative_count += 1\n",
    "        elif label == \"NEUTRAL\":\n",
    "            neutral_count += 1\n",
    "\n",
    "# Compute average sentiment\n",
    "avg_sentiment = round(statistics.mean(sentiment_scores), 3) if sentiment_scores else 0.0\n",
    "\n",
    "# Final structure\n",
    "result = {\n",
    "    \"ticker\": ticker,\n",
    "    \"dates\": dates,\n",
    "    \"sentiment_scores\": sentiment_scores,\n",
    "    \"avg_sentiment\": avg_sentiment,\n",
    "    \"positive_count\": positive_count,\n",
    "    \"negative_count\": negative_count,\n",
    "    \"neutral_count\": neutral_count\n",
    "}\n",
    "\n",
    "print(result)"
   ]
  },
  {
   "cell_type": "code",
   "execution_count": 25,
   "id": "7e8b77ab",
   "metadata": {},
   "outputs": [],
   "source": [
    "cursor = sentiment_collection.find({\"company\": 'Apple'})"
   ]
  },
  {
   "cell_type": "code",
   "execution_count": 26,
   "id": "ee0f5e60",
   "metadata": {},
   "outputs": [
    {
     "data": {
      "text/plain": [
       "{'_id': ObjectId('68110218353171b797e312e2'),\n",
       " 'company': 'Apple',\n",
       " 'headline': 'The EU isn’t happy with Apple’s tax on alternative app stores',\n",
       " 'source': 'The Verge',\n",
       " 'url': 'https://www.theverge.com/news/636196/apple-eu-dma-probe-alternative-app-stores-tax',\n",
       " 'published_at': '2025-04-23T11:30:48Z',\n",
       " 'week_start': datetime.datetime(2025, 4, 22, 0, 0),\n",
       " 'week_end': datetime.datetime(2025, 4, 29, 0, 0),\n",
       " 'created_at': datetime.datetime(2025, 4, 29, 16, 45, 12, 582000),\n",
       " 'content': 'The European Commission has also closed its investigation into the iPhones browser choice screen.\\r\\nThe European Commission has also closed its investigation into the iPhones browser choice screen.\\r\\nT… [+2572 chars]',\n",
       " 'sentiment': {'label': 'NEGATIVE', 'score': 0.9975680708885193}}"
      ]
     },
     "execution_count": 26,
     "metadata": {},
     "output_type": "execute_result"
    }
   ],
   "source": [
    "cursor[0]"
   ]
  },
  {
   "cell_type": "code",
   "execution_count": null,
   "id": "637c3cae",
   "metadata": {},
   "outputs": [],
   "source": []
  }
 ],
 "metadata": {
  "kernelspec": {
   "display_name": "MLOps",
   "language": "python",
   "name": "python3"
  },
  "language_info": {
   "codemirror_mode": {
    "name": "ipython",
    "version": 3
   },
   "file_extension": ".py",
   "mimetype": "text/x-python",
   "name": "python",
   "nbconvert_exporter": "python",
   "pygments_lexer": "ipython3",
   "version": "3.10.14"
  }
 },
 "nbformat": 4,
 "nbformat_minor": 5
}
